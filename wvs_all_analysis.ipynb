{
 "cells": [
  {
   "cell_type": "code",
   "execution_count": 1,
   "id": "d0b2e98a",
   "metadata": {},
   "outputs": [],
   "source": [
    "import pandas as pd"
   ]
  },
  {
   "cell_type": "code",
   "execution_count": 2,
   "id": "e0ec88e3",
   "metadata": {},
   "outputs": [
    {
     "data": {
      "text/html": [
       "<div>\n",
       "<style scoped>\n",
       "    .dataframe tbody tr th:only-of-type {\n",
       "        vertical-align: middle;\n",
       "    }\n",
       "\n",
       "    .dataframe tbody tr th {\n",
       "        vertical-align: top;\n",
       "    }\n",
       "\n",
       "    .dataframe thead th {\n",
       "        text-align: right;\n",
       "    }\n",
       "</style>\n",
       "<table border=\"1\" class=\"dataframe\">\n",
       "  <thead>\n",
       "    <tr style=\"text-align: right;\">\n",
       "      <th></th>\n",
       "      <th>version</th>\n",
       "      <th>doi</th>\n",
       "      <th>S001</th>\n",
       "      <th>S002VS</th>\n",
       "      <th>S003</th>\n",
       "      <th>COUNTRY_ALPHA</th>\n",
       "      <th>COW_NUM</th>\n",
       "      <th>COW_ALPHA</th>\n",
       "      <th>S004</th>\n",
       "      <th>S006</th>\n",
       "      <th>...</th>\n",
       "      <th>Y023A</th>\n",
       "      <th>Y023B</th>\n",
       "      <th>Y023C</th>\n",
       "      <th>Y024A</th>\n",
       "      <th>Y024B</th>\n",
       "      <th>Y024C</th>\n",
       "      <th>survself</th>\n",
       "      <th>tradrat5</th>\n",
       "      <th>TradAgg</th>\n",
       "      <th>SurvSAgg</th>\n",
       "    </tr>\n",
       "  </thead>\n",
       "  <tbody>\n",
       "    <tr>\n",
       "      <th>0</th>\n",
       "      <td>5-0-0 (2024-04-30)</td>\n",
       "      <td>doi.org/10.14281/18241.25</td>\n",
       "      <td>2</td>\n",
       "      <td>3</td>\n",
       "      <td>8</td>\n",
       "      <td>ALB</td>\n",
       "      <td>339</td>\n",
       "      <td>ALB</td>\n",
       "      <td>1</td>\n",
       "      <td>1</td>\n",
       "      <td>...</td>\n",
       "      <td>0.000000</td>\n",
       "      <td>0.444444</td>\n",
       "      <td>0.444444</td>\n",
       "      <td>0.33</td>\n",
       "      <td>0.0</td>\n",
       "      <td>0.165</td>\n",
       "      <td>-1.011276</td>\n",
       "      <td>0.160847</td>\n",
       "      <td>0.158964</td>\n",
       "      <td>-1.792410</td>\n",
       "    </tr>\n",
       "    <tr>\n",
       "      <th>1</th>\n",
       "      <td>5-0-0 (2024-04-30)</td>\n",
       "      <td>doi.org/10.14281/18241.25</td>\n",
       "      <td>2</td>\n",
       "      <td>3</td>\n",
       "      <td>8</td>\n",
       "      <td>ALB</td>\n",
       "      <td>339</td>\n",
       "      <td>ALB</td>\n",
       "      <td>1</td>\n",
       "      <td>2</td>\n",
       "      <td>...</td>\n",
       "      <td>0.111111</td>\n",
       "      <td>0.444444</td>\n",
       "      <td>0.444444</td>\n",
       "      <td>0.33</td>\n",
       "      <td>0.0</td>\n",
       "      <td>0.165</td>\n",
       "      <td>-0.688773</td>\n",
       "      <td>0.409283</td>\n",
       "      <td>0.558946</td>\n",
       "      <td>-1.208679</td>\n",
       "    </tr>\n",
       "    <tr>\n",
       "      <th>2</th>\n",
       "      <td>5-0-0 (2024-04-30)</td>\n",
       "      <td>doi.org/10.14281/18241.25</td>\n",
       "      <td>2</td>\n",
       "      <td>3</td>\n",
       "      <td>8</td>\n",
       "      <td>ALB</td>\n",
       "      <td>339</td>\n",
       "      <td>ALB</td>\n",
       "      <td>1</td>\n",
       "      <td>3</td>\n",
       "      <td>...</td>\n",
       "      <td>0.000000</td>\n",
       "      <td>0.444444</td>\n",
       "      <td>0.444444</td>\n",
       "      <td>0.33</td>\n",
       "      <td>0.5</td>\n",
       "      <td>0.415</td>\n",
       "      <td>NaN</td>\n",
       "      <td>NaN</td>\n",
       "      <td>NaN</td>\n",
       "      <td>NaN</td>\n",
       "    </tr>\n",
       "    <tr>\n",
       "      <th>3</th>\n",
       "      <td>5-0-0 (2024-04-30)</td>\n",
       "      <td>doi.org/10.14281/18241.25</td>\n",
       "      <td>2</td>\n",
       "      <td>3</td>\n",
       "      <td>8</td>\n",
       "      <td>ALB</td>\n",
       "      <td>339</td>\n",
       "      <td>ALB</td>\n",
       "      <td>1</td>\n",
       "      <td>4</td>\n",
       "      <td>...</td>\n",
       "      <td>0.000000</td>\n",
       "      <td>0.333333</td>\n",
       "      <td>0.333333</td>\n",
       "      <td>0.33</td>\n",
       "      <td>0.0</td>\n",
       "      <td>0.165</td>\n",
       "      <td>-1.319863</td>\n",
       "      <td>0.733956</td>\n",
       "      <td>1.081669</td>\n",
       "      <td>-2.350952</td>\n",
       "    </tr>\n",
       "    <tr>\n",
       "      <th>4</th>\n",
       "      <td>5-0-0 (2024-04-30)</td>\n",
       "      <td>doi.org/10.14281/18241.25</td>\n",
       "      <td>2</td>\n",
       "      <td>3</td>\n",
       "      <td>8</td>\n",
       "      <td>ALB</td>\n",
       "      <td>339</td>\n",
       "      <td>ALB</td>\n",
       "      <td>1</td>\n",
       "      <td>5</td>\n",
       "      <td>...</td>\n",
       "      <td>0.000000</td>\n",
       "      <td>0.333333</td>\n",
       "      <td>0.333333</td>\n",
       "      <td>0.00</td>\n",
       "      <td>0.5</td>\n",
       "      <td>0.250</td>\n",
       "      <td>NaN</td>\n",
       "      <td>NaN</td>\n",
       "      <td>NaN</td>\n",
       "      <td>NaN</td>\n",
       "    </tr>\n",
       "  </tbody>\n",
       "</table>\n",
       "<p>5 rows × 1046 columns</p>\n",
       "</div>"
      ],
      "text/plain": [
       "              version                        doi  S001  S002VS  S003  \\\n",
       "0  5-0-0 (2024-04-30)  doi.org/10.14281/18241.25     2       3     8   \n",
       "1  5-0-0 (2024-04-30)  doi.org/10.14281/18241.25     2       3     8   \n",
       "2  5-0-0 (2024-04-30)  doi.org/10.14281/18241.25     2       3     8   \n",
       "3  5-0-0 (2024-04-30)  doi.org/10.14281/18241.25     2       3     8   \n",
       "4  5-0-0 (2024-04-30)  doi.org/10.14281/18241.25     2       3     8   \n",
       "\n",
       "  COUNTRY_ALPHA  COW_NUM COW_ALPHA  S004  S006  ...     Y023A     Y023B  \\\n",
       "0           ALB      339       ALB     1     1  ...  0.000000  0.444444   \n",
       "1           ALB      339       ALB     1     2  ...  0.111111  0.444444   \n",
       "2           ALB      339       ALB     1     3  ...  0.000000  0.444444   \n",
       "3           ALB      339       ALB     1     4  ...  0.000000  0.333333   \n",
       "4           ALB      339       ALB     1     5  ...  0.000000  0.333333   \n",
       "\n",
       "      Y023C  Y024A  Y024B  Y024C  survself  tradrat5   TradAgg  SurvSAgg  \n",
       "0  0.444444   0.33    0.0  0.165 -1.011276  0.160847  0.158964 -1.792410  \n",
       "1  0.444444   0.33    0.0  0.165 -0.688773  0.409283  0.558946 -1.208679  \n",
       "2  0.444444   0.33    0.5  0.415       NaN       NaN       NaN       NaN  \n",
       "3  0.333333   0.33    0.0  0.165 -1.319863  0.733956  1.081669 -2.350952  \n",
       "4  0.333333   0.00    0.5  0.250       NaN       NaN       NaN       NaN  \n",
       "\n",
       "[5 rows x 1046 columns]"
      ]
     },
     "execution_count": 2,
     "metadata": {},
     "output_type": "execute_result"
    }
   ],
   "source": [
    "wvs_data = pd.read_csv('wvs_data_all.csv')\n",
    "wvs_data.head()"
   ]
  },
  {
   "cell_type": "code",
   "execution_count": 3,
   "id": "1111aedf",
   "metadata": {},
   "outputs": [
    {
     "name": "stdout",
     "output_type": "stream",
     "text": [
      "Collecting pypdf\n",
      "  Downloading pypdf-5.8.0-py3-none-any.whl.metadata (7.1 kB)\n",
      "Downloading pypdf-5.8.0-py3-none-any.whl (309 kB)\n",
      "Installing collected packages: pypdf\n",
      "Successfully installed pypdf-5.8.0\n"
     ]
    }
   ],
   "source": [
    "!pip install pypdf"
   ]
  },
  {
   "cell_type": "code",
   "execution_count": 6,
   "id": "368bc0dc",
   "metadata": {},
   "outputs": [
    {
     "data": {
      "text/html": [
       "<div>\n",
       "<style scoped>\n",
       "    .dataframe tbody tr th:only-of-type {\n",
       "        vertical-align: middle;\n",
       "    }\n",
       "\n",
       "    .dataframe tbody tr th {\n",
       "        vertical-align: top;\n",
       "    }\n",
       "\n",
       "    .dataframe thead th {\n",
       "        text-align: right;\n",
       "    }\n",
       "</style>\n",
       "<table border=\"1\" class=\"dataframe\">\n",
       "  <thead>\n",
       "    <tr style=\"text-align: right;\">\n",
       "      <th></th>\n",
       "      <th>Code</th>\n",
       "      <th>Religion</th>\n",
       "    </tr>\n",
       "  </thead>\n",
       "  <tbody>\n",
       "    <tr>\n",
       "      <th>0</th>\n",
       "      <td>10000000</td>\n",
       "      <td>Catholic, nfd</td>\n",
       "    </tr>\n",
       "    <tr>\n",
       "      <th>1</th>\n",
       "      <td>10100000</td>\n",
       "      <td>Roman Catholic; Latin Church;</td>\n",
       "    </tr>\n",
       "    <tr>\n",
       "      <th>2</th>\n",
       "      <td>10200000</td>\n",
       "      <td>Eastern Catholic Churches; nfd</td>\n",
       "    </tr>\n",
       "    <tr>\n",
       "      <th>3</th>\n",
       "      <td>10201000</td>\n",
       "      <td>Alexandrian Rite</td>\n",
       "    </tr>\n",
       "    <tr>\n",
       "      <th>4</th>\n",
       "      <td>10201010</td>\n",
       "      <td>Coptic Catholic Church</td>\n",
       "    </tr>\n",
       "  </tbody>\n",
       "</table>\n",
       "</div>"
      ],
      "text/plain": [
       "       Code                         Religion\n",
       "0  10000000                   Catholic, nfd \n",
       "1  10100000   Roman Catholic; Latin Church; \n",
       "2  10200000  Eastern Catholic Churches; nfd \n",
       "3  10201000                Alexandrian Rite \n",
       "4  10201010          Coptic Catholic Church "
      ]
     },
     "execution_count": 6,
     "metadata": {},
     "output_type": "execute_result"
    }
   ],
   "source": [
    "from pypdf import PdfReader\n",
    "import pandas as pd\n",
    "import re\n",
    "\n",
    "reader = PdfReader(\"variables.pdf\")\n",
    "text = \"\"\n",
    "for page in reader.pages[288:300]:\n",
    "    text += page.extract_text()\n",
    "\n",
    "matches = re.findall(r\"(\\d{8})\\s+([^\\n]+)\", text)\n",
    "df_codes = pd.DataFrame(matches, columns=[\"Code\", \"Religion\"])\n",
    "df_codes.head()"
   ]
  },
  {
   "cell_type": "code",
   "execution_count": 7,
   "id": "2d39c258",
   "metadata": {},
   "outputs": [
    {
     "data": {
      "text/plain": [
       "(1496, 2)"
      ]
     },
     "execution_count": 7,
     "metadata": {},
     "output_type": "execute_result"
    }
   ],
   "source": [
    "df_codes.shape"
   ]
  },
  {
   "cell_type": "code",
   "execution_count": 8,
   "id": "2419053a",
   "metadata": {
    "vscode": {
     "languageId": "ruby"
    }
   },
   "outputs": [
    {
     "data": {
      "text/html": [
       "<div>\n",
       "<style scoped>\n",
       "    .dataframe tbody tr th:only-of-type {\n",
       "        vertical-align: middle;\n",
       "    }\n",
       "\n",
       "    .dataframe tbody tr th {\n",
       "        vertical-align: top;\n",
       "    }\n",
       "\n",
       "    .dataframe thead th {\n",
       "        text-align: right;\n",
       "    }\n",
       "</style>\n",
       "<table border=\"1\" class=\"dataframe\">\n",
       "  <thead>\n",
       "    <tr style=\"text-align: right;\">\n",
       "      <th></th>\n",
       "      <th>Code</th>\n",
       "      <th>Religion</th>\n",
       "    </tr>\n",
       "  </thead>\n",
       "  <tbody>\n",
       "    <tr>\n",
       "      <th>0</th>\n",
       "      <td>10000000</td>\n",
       "      <td>Catholic</td>\n",
       "    </tr>\n",
       "    <tr>\n",
       "      <th>1</th>\n",
       "      <td>10100000</td>\n",
       "      <td>Roman Catholic</td>\n",
       "    </tr>\n",
       "    <tr>\n",
       "      <th>2</th>\n",
       "      <td>10200000</td>\n",
       "      <td>Eastern Catholic Churches</td>\n",
       "    </tr>\n",
       "    <tr>\n",
       "      <th>3</th>\n",
       "      <td>10201000</td>\n",
       "      <td>Alexandrian Rite</td>\n",
       "    </tr>\n",
       "    <tr>\n",
       "      <th>4</th>\n",
       "      <td>10201010</td>\n",
       "      <td>Coptic Catholic Church</td>\n",
       "    </tr>\n",
       "  </tbody>\n",
       "</table>\n",
       "</div>"
      ],
      "text/plain": [
       "       Code                   Religion\n",
       "0  10000000                  Catholic \n",
       "1  10100000            Roman Catholic \n",
       "2  10200000  Eastern Catholic Churches\n",
       "3  10201000          Alexandrian Rite \n",
       "4  10201010    Coptic Catholic Church "
      ]
     },
     "execution_count": 8,
     "metadata": {},
     "output_type": "execute_result"
    }
   ],
   "source": [
    "df_codes['Religion'] = df_codes['Religion'].str.replace(r', nfd', '', regex=True)\n",
    "df_codes['Religion'] = df_codes['Religion'].str.replace(r';.*?;', '', regex=True)\n",
    "df_codes['Religion'] = df_codes['Religion'].str.replace(r';.*', '', regex=True)\n",
    "df_codes.head()"
   ]
  },
  {
   "cell_type": "code",
   "execution_count": 9,
   "id": "aeab52be",
   "metadata": {
    "vscode": {
     "languageId": "ruby"
    }
   },
   "outputs": [
    {
     "data": {
      "text/plain": [
       "(443488, 1046)"
      ]
     },
     "execution_count": 9,
     "metadata": {},
     "output_type": "execute_result"
    }
   ],
   "source": [
    "wvs_data.shape"
   ]
  }
 ],
 "metadata": {
  "kernelspec": {
   "display_name": "relcomp",
   "language": "python",
   "name": "python3"
  },
  "language_info": {
   "codemirror_mode": {
    "name": "ipython",
    "version": 3
   },
   "file_extension": ".py",
   "mimetype": "text/x-python",
   "name": "python",
   "nbconvert_exporter": "python",
   "pygments_lexer": "ipython3",
   "version": "3.13.5"
  }
 },
 "nbformat": 4,
 "nbformat_minor": 5
}
